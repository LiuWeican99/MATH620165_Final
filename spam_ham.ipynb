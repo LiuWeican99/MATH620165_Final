{
 "cells": [
  {
   "cell_type": "code",
   "execution_count": 148,
   "id": "7d4b48ce",
   "metadata": {},
   "outputs": [],
   "source": [
    "import os\n",
    "import codecs\n",
    "import random\n",
    "import nltk\n",
    "import re\n",
    "from nltk import word_tokenize\n",
    "from nltk import NaiveBayesClassifier, classify\n",
    "from nltk.text import Text\n",
    "from sklearn.metrics import accuracy_score\n",
    "from sklearn.metrics import confusion_matrix\n",
    "from sklearn import metrics"
   ]
  },
  {
   "cell_type": "markdown",
   "id": "8056266c",
   "metadata": {},
   "source": [
    "载入数据"
   ]
  },
  {
   "cell_type": "code",
   "execution_count": 149,
   "id": "a533cba4",
   "metadata": {},
   "outputs": [],
   "source": [
    "import os\n",
    "def load_data(root_path, m_type):\n",
    "    content_list = []\n",
    "    for i in range(1,6):\n",
    "        path = os.path.join(root_path, \"enron%d/%s/\" % (i, m_type))\n",
    "\n",
    "        file_list = os.listdir(path)\n",
    "        for file_name in file_list:\n",
    "            file_path = os.path.join(path, file_name)\n",
    "            if os.path.isfile(file_path):\n",
    "                with open(file_path, encoding='utf-8', errors='ignore') as f:\n",
    "                    content = ''.join([line.strip() for line in f.readlines()])\n",
    "                content_list.append(content)\n",
    "    return content_list"
   ]
  },
  {
   "cell_type": "code",
   "execution_count": 150,
   "id": "0e69d5ec",
   "metadata": {},
   "outputs": [],
   "source": [
    "ham = load_data('./data', 'ham')\n",
    "spam = load_data('./data', 'spam')"
   ]
  },
  {
   "cell_type": "markdown",
   "id": "bcc27959",
   "metadata": {},
   "source": [
    "数据预处理"
   ]
  },
  {
   "cell_type": "code",
   "execution_count": 151,
   "id": "b705a04e",
   "metadata": {},
   "outputs": [],
   "source": [
    "#观察数据集\n",
    "import pandas as pd\n",
    "spamdf = pd.DataFrame({'email':spam,'label':1})#垃圾邮件标签贴1\n",
    "hamdf = pd.DataFrame({'email':ham,'label':0})#非垃圾邮件标签贴0\n",
    "emaildf = pd.concat([spamdf, hamdf], ignore_index=True)#合并"
   ]
  },
  {
   "cell_type": "code",
   "execution_count": 152,
   "id": "38d25cc6",
   "metadata": {},
   "outputs": [
    {
     "data": {
      "text/html": [
       "<div>\n",
       "<style scoped>\n",
       "    .dataframe tbody tr th:only-of-type {\n",
       "        vertical-align: middle;\n",
       "    }\n",
       "\n",
       "    .dataframe tbody tr th {\n",
       "        vertical-align: top;\n",
       "    }\n",
       "\n",
       "    .dataframe thead th {\n",
       "        text-align: right;\n",
       "    }\n",
       "</style>\n",
       "<table border=\"1\" class=\"dataframe\">\n",
       "  <thead>\n",
       "    <tr style=\"text-align: right;\">\n",
       "      <th></th>\n",
       "      <th>email</th>\n",
       "      <th>label</th>\n",
       "    </tr>\n",
       "  </thead>\n",
       "  <tbody>\n",
       "    <tr>\n",
       "      <th>0</th>\n",
       "      <td>Subject: dobmeos with hgh my energy level has ...</td>\n",
       "      <td>1</td>\n",
       "    </tr>\n",
       "    <tr>\n",
       "      <th>1</th>\n",
       "      <td>Subject: your prescription is ready . . oxwq s...</td>\n",
       "      <td>1</td>\n",
       "    </tr>\n",
       "    <tr>\n",
       "      <th>2</th>\n",
       "      <td>Subject: get that new car 8434people nowthe we...</td>\n",
       "      <td>1</td>\n",
       "    </tr>\n",
       "    <tr>\n",
       "      <th>3</th>\n",
       "      <td>Subject: await your responsedear partner ,we a...</td>\n",
       "      <td>1</td>\n",
       "    </tr>\n",
       "    <tr>\n",
       "      <th>4</th>\n",
       "      <td>Subject: coca cola , mbna america , nascar par...</td>\n",
       "      <td>1</td>\n",
       "    </tr>\n",
       "  </tbody>\n",
       "</table>\n",
       "</div>"
      ],
      "text/plain": [
       "                                               email  label\n",
       "0  Subject: dobmeos with hgh my energy level has ...      1\n",
       "1  Subject: your prescription is ready . . oxwq s...      1\n",
       "2  Subject: get that new car 8434people nowthe we...      1\n",
       "3  Subject: await your responsedear partner ,we a...      1\n",
       "4  Subject: coca cola , mbna america , nascar par...      1"
      ]
     },
     "execution_count": 152,
     "metadata": {},
     "output_type": "execute_result"
    }
   ],
   "source": [
    "emaildf.head(5)"
   ]
  },
  {
   "cell_type": "code",
   "execution_count": 153,
   "id": "05c2b6ad",
   "metadata": {},
   "outputs": [
    {
     "name": "stdout",
     "output_type": "stream",
     "text": [
      "垃圾邮件： 15045 非垃圾邮件： 12671\n",
      "data size: 27716\n"
     ]
    }
   ],
   "source": [
    "s=emaildf.label.value_counts()\n",
    "\n",
    "print('垃圾邮件：',s.values[0],'非垃圾邮件：',s.values[1])\n",
    "print('data size:',s.values[0]+s.values[1])"
   ]
  },
  {
   "cell_type": "code",
   "execution_count": 154,
   "id": "6c0f488f",
   "metadata": {},
   "outputs": [],
   "source": [
    "#数据清洗\n",
    "from nltk.stem import PorterStemmer\n",
    "\n",
    "stemmer = PorterStemmer()\n",
    "\n",
    "def Stemmer(words):\n",
    "        stem_words = [stemmer.stem(o) for o in words]\n",
    "        return \" \".join(stem_words)    \n",
    "    \n",
    "\n",
    "def TextPreProcessing(Text):\n",
    "    Text = str(Text)\n",
    "    \n",
    "    #lowercase string\n",
    "    Text = Text.lower()\n",
    "    \n",
    "    #html tag stripping\n",
    "    Text = str(Text)\n",
    "    Text = re.sub('<[^<]+?>', '', Text)\n",
    "    \n",
    "    #url normalizing\n",
    "    Text = re.sub(r'^https?:\\/\\/.*[\\r\\n]*', 'httpaddr', Text, flags=re.MULTILINE)\n",
    "    \n",
    "    #email normalizing\n",
    "    Text = re.sub('\\S*@\\S*\\s?', 'emailaddr', Text)\n",
    "    \n",
    "    #currency normalizing\n",
    "    currencies = [['$',\"€\",\"£\"], ['dollar', \"euro\", \"pound\"]]\n",
    "    for i in range(len(currencies[0])):\n",
    "        to_find = currencies[0][i]\n",
    "        to_replace = currencies[1][i]\n",
    "        Text = Text.replace(to_find, to_replace)\n",
    "        \n",
    "    #stemming\n",
    "    Text = Stemmer(Text.split(\" \"))\n",
    "    \n",
    "        \n",
    "    #special symbol removal\n",
    "    Text = re.sub(r'[^a-zA-Z0-9 ]',r'',Text)\n",
    "    \n",
    "    #Remove all numbers\n",
    "    Text = re.sub(r'[0-9]', '', Text)\n",
    "    \n",
    "    #remove banned words\n",
    "    banned = ['hou',\"ect\",\"subject\",'subj']\n",
    "    for i in range(len(banned)):\n",
    "        bannedwordfind = banned[i]\n",
    "        Text = Text.replace(bannedwordfind, '')\n",
    "    \n",
    "\n",
    "    return Text"
   ]
  },
  {
   "cell_type": "code",
   "execution_count": 155,
   "id": "dc2472e7",
   "metadata": {},
   "outputs": [],
   "source": [
    "emaildf['email']=emaildf['email'].apply(TextPreProcessing)"
   ]
  },
  {
   "cell_type": "code",
   "execution_count": 156,
   "id": "90fe90b7",
   "metadata": {},
   "outputs": [
    {
     "data": {
      "text/html": [
       "<div>\n",
       "<style scoped>\n",
       "    .dataframe tbody tr th:only-of-type {\n",
       "        vertical-align: middle;\n",
       "    }\n",
       "\n",
       "    .dataframe tbody tr th {\n",
       "        vertical-align: top;\n",
       "    }\n",
       "\n",
       "    .dataframe thead th {\n",
       "        text-align: right;\n",
       "    }\n",
       "</style>\n",
       "<table border=\"1\" class=\"dataframe\">\n",
       "  <thead>\n",
       "    <tr style=\"text-align: right;\">\n",
       "      <th></th>\n",
       "      <th>email</th>\n",
       "      <th>label</th>\n",
       "    </tr>\n",
       "  </thead>\n",
       "  <tbody>\n",
       "    <tr>\n",
       "      <th>0</th>\n",
       "      <td>dobmeo with hgh my energi level ha gone up  s...</td>\n",
       "      <td>1</td>\n",
       "    </tr>\n",
       "    <tr>\n",
       "      <th>1</th>\n",
       "      <td>your prescript is readi   oxwq s f elow cost ...</td>\n",
       "      <td>1</td>\n",
       "    </tr>\n",
       "    <tr>\n",
       "      <th>2</th>\n",
       "      <td>get that new car peopl nowth weather or clima...</td>\n",
       "      <td>1</td>\n",
       "    </tr>\n",
       "    <tr>\n",
       "      <th>3</th>\n",
       "      <td>await your responsedear partner we are a team...</td>\n",
       "      <td>1</td>\n",
       "    </tr>\n",
       "    <tr>\n",
       "      <th>4</th>\n",
       "      <td>coca cola  mbna america  nascar partner with ...</td>\n",
       "      <td>1</td>\n",
       "    </tr>\n",
       "  </tbody>\n",
       "</table>\n",
       "</div>"
      ],
      "text/plain": [
       "                                               email  label\n",
       "0   dobmeo with hgh my energi level ha gone up  s...      1\n",
       "1   your prescript is readi   oxwq s f elow cost ...      1\n",
       "2   get that new car peopl nowth weather or clima...      1\n",
       "3   await your responsedear partner we are a team...      1\n",
       "4   coca cola  mbna america  nascar partner with ...      1"
      ]
     },
     "execution_count": 156,
     "metadata": {},
     "output_type": "execute_result"
    }
   ],
   "source": [
    "emaildf.head()"
   ]
  },
  {
   "cell_type": "code",
   "execution_count": 157,
   "id": "35fb0f1f",
   "metadata": {},
   "outputs": [],
   "source": [
    "#训练集测试集划分\n",
    "def tt_split(df):\n",
    "    \n",
    "    xtrain, xtest, ytrain, ytest = train_test_split(df['email'], df['label'], test_size=0.3,random_state=5)\n",
    "    \n",
    "    return xtrain,xtest,ytrain,ytest\n",
    "\n",
    "xtrain,xtest,ytrain,ytest = tt_split(emaildf)"
   ]
  },
  {
   "cell_type": "markdown",
   "id": "687775a2",
   "metadata": {},
   "source": [
    "特征提取"
   ]
  },
  {
   "cell_type": "code",
   "execution_count": 158,
   "id": "a924b576",
   "metadata": {},
   "outputs": [],
   "source": [
    "def tfid_vec(train,test):\n",
    "    \n",
    "    # initialize vectorizer - we will check ngrams up to length 2\n",
    "    transformer = TfidfVectorizer(ngram_range=(1,2),min_df=5)\n",
    "    \n",
    "    # using the vectorizer to transform the training and test data to numerical values.  \n",
    "    train_tfid = transformer.fit_transform(train)\n",
    "    test_tfid = transformer.transform(test)\n",
    "    \n",
    "    return train_tfid,test_tfid\n",
    "\n",
    "xtrain_tfid,xtest_tfid = tfid_vec(xtrain,xtest)"
   ]
  },
  {
   "cell_type": "markdown",
   "id": "7d8ebb7e",
   "metadata": {},
   "source": [
    "模型训练与评价"
   ]
  },
  {
   "cell_type": "code",
   "execution_count": 159,
   "id": "a5a7a656",
   "metadata": {},
   "outputs": [],
   "source": [
    "# Multinomial Naive Bayes\n",
    "from sklearn.naive_bayes import MultinomialNB\n",
    "mymodelNB = MultinomialNB().fit(xtrain_tfid, ytrain)"
   ]
  },
  {
   "cell_type": "code",
   "execution_count": 160,
   "id": "502ff810",
   "metadata": {},
   "outputs": [],
   "source": [
    "def plot_matrix(ytest,ypreds,classes,title):\n",
    "    # Code adapted and tweaked from scikit-learn.org\n",
    "\n",
    "    cm=confusion_matrix(ytest, ypreds,labels=[1,0])\n",
    "  \n",
    "    plt.imshow(cm, interpolation='nearest', cmap=plt.cm.Blues)\n",
    "    plt.title(title)\n",
    "    plt.colorbar()\n",
    "    tick_marks = np.arange(len(classes))\n",
    "    plt.xticks(tick_marks, classes, rotation=45)\n",
    "    plt.yticks(tick_marks, classes)\n",
    "\n",
    "    fmt = 'd'\n",
    "    thresh = cm.max() / 2.\n",
    "    for i, j in itertools.product(range(cm.shape[0]), range(cm.shape[1])):\n",
    "        plt.text(j, i, format(cm[i, j], fmt),\n",
    "                 horizontalalignment=\"center\",\n",
    "                 color=\"white\" if cm[i, j] > thresh else \"black\")\n",
    "\n",
    "    plt.ylabel('True label')\n",
    "    plt.xlabel('Predicted label')\n",
    "    plt.tight_layout()"
   ]
  },
  {
   "cell_type": "code",
   "execution_count": 161,
   "id": "5b223c3c",
   "metadata": {},
   "outputs": [],
   "source": [
    "def evaluate_model(model,xtest,ytest):\n",
    "    \n",
    "    # get class predictions\n",
    "    ypreds=model.predict(xtest)\n",
    "    \n",
    "    # get class probabilities for use in ROC curve\n",
    "    yprobs=model.predict_proba(xtest)[:,1]\n",
    "    \n",
    "    # set model name\n",
    "    model_name = type(model).__name__\n",
    "    \n",
    "    print('\\n---------',model_name,'---------\\n')\n",
    "    \n",
    "    # accuracy score\n",
    "    score = metrics.accuracy_score(ytest, ypreds, normalize=True, sample_weight=None)\n",
    "    print('\\n\\nAcruacy score of ',score)\n",
    "    \n",
    "    # call plot_matrix function \n",
    "    classes=['spam','ham']\n",
    "    plt.figure()\n",
    "    plot_matrix(ytest,ypreds,classes,model_name)\n",
    "    \n",
    "    # classification report\n",
    "\n",
    "    print(metrics.classification_report(ytest, ypreds,target_names=['Spam','Ham']))\n",
    "    \n",
    "    # Compute false positive rate, true positive rate, thresholds and area under the ROC curve\n",
    "    fpr, tpr, thresholds = roc_curve(ytest, yprobs)\n",
    "    roc_auc = roc_auc_score(ytest, yprobs)\n",
    "    \n",
    "    plt.figure()\n",
    "    \n",
    "    # Plot ROC curve\n",
    "    plt.plot(fpr, tpr, label='ROC curve (area = %0.3f)' % roc_auc)\n",
    "    plt.legend(loc=\"best\")\n",
    "    plt.plot([0, 1], [0, 1], 'k--')  # random predictions curve\n",
    "    plt.xlim([0.0, 1.0])\n",
    "    plt.ylim([0.0, 1.0])\n",
    "    plt.xlabel('False Positive Rate or (1 - Specifity)')\n",
    "    plt.ylabel('True Positive Rate or (Sensitivity)')\n",
    "    plt.title('ROC '+model_name)\n",
    "    \n",
    "    return score,model_name"
   ]
  },
  {
   "cell_type": "code",
   "execution_count": 169,
   "id": "588e5600",
   "metadata": {},
   "outputs": [],
   "source": [
    "import seaborn as sn\n",
    "import matplotlib.pyplot as plt\n",
    "import numpy as np\n",
    "import itertools\n",
    "from sklearn.metrics import roc_curve,roc_auc_score"
   ]
  },
  {
   "cell_type": "code",
   "execution_count": 170,
   "id": "3765b1b5",
   "metadata": {},
   "outputs": [
    {
     "name": "stdout",
     "output_type": "stream",
     "text": [
      "\n",
      "--------- MultinomialNB ---------\n",
      "\n",
      "\n",
      "\n",
      "Acruacy score of  0.9832832230907997\n",
      "              precision    recall  f1-score   support\n",
      "\n",
      "        Spam       0.98      0.99      0.98      4485\n",
      "         Ham       0.99      0.97      0.98      3830\n",
      "\n",
      "    accuracy                           0.98      8315\n",
      "   macro avg       0.98      0.98      0.98      8315\n",
      "weighted avg       0.98      0.98      0.98      8315\n",
      "\n"
     ]
    },
    {
     "data": {
      "image/png": "[encoded data removed]",
      "text/plain": [
       "<Figure size 432x288 with 2 Axes>"
      ]
     },
     "metadata": {
      "needs_background": "light"
     },
     "output_type": "display_data"
    },
    {
     "data": {
      "image/png": "[encoded data removed]",
      "text/plain": [
       "<Figure size 432x288 with 1 Axes>"
      ]
     },
     "metadata": {
      "needs_background": "light"
     },
     "output_type": "display_data"
    }
   ],
   "source": [
    "#Multinomial Naive Bayes Performance Metrics\n",
    "\n",
    "results=[]\n",
    "\n",
    "score,model_name=evaluate_model(mymodelNB,xtest_tfid,ytest)\n",
    "\n",
    "results.append((model_name,score))"
   ]
  },
  {
   "cell_type": "code",
   "execution_count": null,
   "id": "2cbfbbf6",
   "metadata": {},
   "outputs": [],
   "source": []
  },
  {
   "cell_type": "code",
   "execution_count": null,
   "id": "21c6cdb4",
   "metadata": {},
   "outputs": [],
   "source": []
  },
  {
   "cell_type": "code",
   "execution_count": null,
   "id": "3e6c4bc3",
   "metadata": {},
   "outputs": [],
   "source": []
  }
 ],
 "metadata": {
  "kernelspec": {
   "display_name": "Python 3 (ipykernel)",
   "language": "python",
   "name": "python3"
  },
  "language_info": {
   "codemirror_mode": {
    "name": "ipython",
    "version": 3
   },
   "file_extension": ".py",
   "mimetype": "text/x-python",
   "name": "python",
   "nbconvert_exporter": "python",
   "pygments_lexer": "ipython3",
   "version": "3.9.12"
  }
 },
 "nbformat": 4,
 "nbformat_minor": 5
}
